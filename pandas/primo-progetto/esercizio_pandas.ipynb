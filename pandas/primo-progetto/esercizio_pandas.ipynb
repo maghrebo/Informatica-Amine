{
 "cells": [
  {
   "cell_type": "markdown",
   "id": "c19fabfa",
   "metadata": {
    "id": "c19fabfa"
   },
   "source": [
    "# Esercizio con il modulo Pandas\n",
    "In questo esercizio lavoreremo con il modulo `pandas` utilizzando un file `.csv` creato all'inizio.\n",
    "---"
   ]
  },
  {
   "cell_type": "markdown",
   "id": "797521b4",
   "metadata": {
    "id": "797521b4"
   },
   "source": [
    "## **1. Lettura del file `.csv`**\n",
    "- Leggi il file `data.csv` e caricalo in un `DataFrame`.\n",
    "- Utilizza il metodo `read_csv()` per leggere il file CSV e visualizza le prime righe del `DataFrame` con `head()`."
   ]
  },
  {
   "cell_type": "code",
   "execution_count": 1,
   "id": "d9f5fd8b-7202-4daa-95be-576d0070503e",
   "metadata": {
    "id": "d9f5fd8b-7202-4daa-95be-576d0070503e"
   },
   "outputs": [
    {
     "name": "stdout",
     "output_type": "stream",
     "text": [
      "         Nome  Età   Città  Punteggio\n",
      "0      Sylvia   34  Verona         83\n",
      "1      Ettore   22  Verona         82\n",
      "2  Costantino   33  Milano         84\n"
     ]
    }
   ],
   "source": [
    "# Importazione della libreria pandas e assegnamento come nome pd\n",
    "import pandas as pd\n",
    "\n",
    "# Lettura del file csv e inserimento dentro al dataframe pandas\n",
    "df = pd.read_csv('data.csv')\n",
    "\n",
    "# Stampa delle prime 3 righe del dataframe\n",
    "print(df.head(3))"
   ]
  },
  {
   "cell_type": "markdown",
   "id": "39205055",
   "metadata": {
    "id": "39205055"
   },
   "source": [
    "## **2. Esplorazione dei dati**\n",
    "- Mostra informazioni generali sul `DataFrame`, come i tipi di dati, utilizzando `info()`.\n",
    "- Mostra le statistiche descrittive delle colonne numeriche utilizzando `describe()`."
   ]
  },
  {
   "cell_type": "code",
   "execution_count": 3,
   "id": "96958b0e-8c15-4801-aee0-917e871caf96",
   "metadata": {
    "id": "96958b0e-8c15-4801-aee0-917e871caf96"
   },
   "outputs": [
    {
     "name": "stdout",
     "output_type": "stream",
     "text": [
      "------------------------------------------------------------- STAMPA LE INFORMAZIONI SUL DATAFRAME\n",
      "<class 'pandas.core.frame.DataFrame'>\n",
      "RangeIndex: 500 entries, 0 to 499\n",
      "Data columns (total 4 columns):\n",
      " #   Column     Non-Null Count  Dtype \n",
      "---  ------     --------------  ----- \n",
      " 0   Nome       500 non-null    object\n",
      " 1   Età        500 non-null    int64 \n",
      " 2   Città      500 non-null    object\n",
      " 3   Punteggio  500 non-null    int64 \n",
      "dtypes: int64(2), object(2)\n",
      "memory usage: 15.8+ KB\n",
      "None\n",
      "------------------------------------------------------------- STAMPA LE STATISTICHE\n",
      "              Età  Punteggio\n",
      "count  500.000000  500.00000\n",
      "mean    42.736000   75.65800\n",
      "std     15.377361   14.78439\n",
      "min     18.000000   50.00000\n",
      "25%     29.000000   63.00000\n",
      "50%     42.000000   76.00000\n",
      "75%     57.000000   89.00000\n",
      "max     70.000000  100.00000\n"
     ]
    }
   ],
   "source": [
    "print('------------------------------------------------------------- STAMPA LE INFORMAZIONI SUL DATAFRAME')\n",
    "print(df.info())\n",
    "print('------------------------------------------------------------- STAMPA LE STATISTICHE')\n",
    "print(df.describe())"
   ]
  },
  {
   "cell_type": "markdown",
   "id": "41c861a2",
   "metadata": {
    "id": "41c861a2"
   },
   "source": [
    "## **3. Selezione di colonne specifiche**\n",
    "- Seleziona una o più colonne dal `DataFrame`.\n",
    "- Utilizza le parentesi quadre `[]` per selezionare una singola colonna o un elenco di colonne."
   ]
  },
  {
   "cell_type": "code",
   "execution_count": null,
   "id": "f493cbb1-2bd4-4dbb-b62a-3c62bc650486",
   "metadata": {
    "id": "f493cbb1-2bd4-4dbb-b62a-3c62bc650486"
   },
   "outputs": [],
   "source": []
  },
  {
   "cell_type": "markdown",
   "id": "bace7fab",
   "metadata": {
    "id": "bace7fab"
   },
   "source": [
    "## **4. Filtraggio dei dati**\n",
    "- Filtra le righe del `DataFrame` per visualizzare solo i record che soddisfano una condizione specifica (es: valori superiori a una certa soglia).\n",
    "- Suggerimento: utilizza l'operatore di confronto all'interno delle parentesi quadre `[]`."
   ]
  },
  {
   "cell_type": "code",
   "execution_count": null,
   "id": "c3a1bbf1-6451-4fdd-ad8a-8e1cae8c2bc0",
   "metadata": {
    "id": "c3a1bbf1-6451-4fdd-ad8a-8e1cae8c2bc0"
   },
   "outputs": [],
   "source": []
  },
  {
   "cell_type": "markdown",
   "id": "ccb2291c",
   "metadata": {
    "id": "ccb2291c"
   },
   "source": [
    "## **5. Aggiunta di nuove colonne**\n",
    "- Aggiungi una nuova colonna al `DataFrame` calcolata a partire da altre colonne esistenti.\n",
    "- Utilizza l'operazione `DataFrame['nuova_colonna'] = ...` per creare una nuova colonna."
   ]
  },
  {
   "cell_type": "code",
   "execution_count": null,
   "id": "3234a628-aae9-40e3-be0f-098786e77c9e",
   "metadata": {
    "id": "3234a628-aae9-40e3-be0f-098786e77c9e"
   },
   "outputs": [],
   "source": []
  },
  {
   "cell_type": "markdown",
   "id": "dbb7dec1",
   "metadata": {
    "id": "dbb7dec1"
   },
   "source": [
    "## **6. Ordinamento dei dati**\n",
    "- Ordina i dati in base a una o più colonne.\n",
    "- Utilizza `sort_values()` per ordinare il `DataFrame` specificando la colonna e l'ordine."
   ]
  },
  {
   "cell_type": "code",
   "execution_count": null,
   "id": "d2252edd-df87-4685-9a28-5958e1d9dbef",
   "metadata": {
    "id": "d2252edd-df87-4685-9a28-5958e1d9dbef"
   },
   "outputs": [],
   "source": []
  },
  {
   "cell_type": "markdown",
   "id": "ddeed65a",
   "metadata": {
    "id": "ddeed65a"
   },
   "source": [
    "## **7. Raggruppamento e aggregazione**\n",
    "- Raggruppa i dati in base ai valori di una colonna e calcola operazioni di aggregazione (es: somma, media).\n",
    "- Utilizza `groupby()` seguito da metodi di aggregazione come `sum()`, `mean()`."
   ]
  },
  {
   "cell_type": "code",
   "execution_count": null,
   "id": "9e0d2aeb-7b66-42e7-8236-ed6305b84c49",
   "metadata": {
    "id": "9e0d2aeb-7b66-42e7-8236-ed6305b84c49"
   },
   "outputs": [],
   "source": []
  },
  {
   "cell_type": "markdown",
   "id": "dadc226f",
   "metadata": {
    "id": "dadc226f"
   },
   "source": [
    "## **8. Gestione dei valori mancanti**\n",
    "- Identifica i valori mancanti e sostituiscili con un valore appropriato.\n",
    "- Utilizza `isna()` o `isnull()` per identificare i valori mancanti e `fillna()` o `dropna()` per gestirli."
   ]
  },
  {
   "cell_type": "code",
   "execution_count": null,
   "id": "347835e4-13a7-469d-a9d0-e4983320dd03",
   "metadata": {
    "id": "347835e4-13a7-469d-a9d0-e4983320dd03"
   },
   "outputs": [],
   "source": []
  },
  {
   "cell_type": "markdown",
   "id": "a65d7bfb",
   "metadata": {
    "id": "a65d7bfb"
   },
   "source": [
    "## **9. Salvataggio del `DataFrame` aggiornato**\n",
    "- Dopo aver effettuato modifiche, salva il `DataFrame` aggiornato in un nuovo file CSV.\n",
    "- Utilizza `to_csv()` per salvare il file aggiornato con un nome diverso (es: `data_updated.csv`)."
   ]
  },
  {
   "cell_type": "code",
   "execution_count": null,
   "id": "621db887-36ae-49c0-a280-aef2553377bd",
   "metadata": {
    "id": "621db887-36ae-49c0-a280-aef2553377bd"
   },
   "outputs": [],
   "source": []
  }
 ],
 "metadata": {
  "colab": {
   "provenance": []
  },
  "kernelspec": {
   "display_name": "Python 3",
   "language": "python",
   "name": "python3"
  },
  "language_info": {
   "codemirror_mode": {
    "name": "ipython",
    "version": 3
   },
   "file_extension": ".py",
   "mimetype": "text/x-python",
   "name": "python",
   "nbconvert_exporter": "python",
   "pygments_lexer": "ipython3",
   "version": "3.12.7"
  }
 },
 "nbformat": 4,
 "nbformat_minor": 5
}
