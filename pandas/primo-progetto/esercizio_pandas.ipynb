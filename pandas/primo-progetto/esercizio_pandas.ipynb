{
 "cells": [
  {
   "cell_type": "markdown",
   "id": "c19fabfa",
   "metadata": {
    "id": "c19fabfa"
   },
   "source": [
    "# Esercizio con il modulo Pandas\n",
    "In questo esercizio lavoreremo con il modulo `pandas` utilizzando un file `.csv` creato all'inizio.\n",
    "---"
   ]
  },
  {
   "cell_type": "markdown",
   "id": "797521b4",
   "metadata": {
    "id": "797521b4"
   },
   "source": [
    "## **1. Lettura del file `.csv`**\n",
    "- Leggi il file `data.csv` e caricalo in un `DataFrame`.\n",
    "- Utilizza il metodo `read_csv()` per leggere il file CSV e visualizza le prime righe del `DataFrame` con `head()`."
   ]
  },
  {
   "cell_type": "code",
   "execution_count": 2,
   "id": "d9f5fd8b-7202-4daa-95be-576d0070503e",
   "metadata": {
    "id": "d9f5fd8b-7202-4daa-95be-576d0070503e"
   },
   "outputs": [
    {
     "name": "stdout",
     "output_type": "stream",
     "text": [
      "         Nome  Età   Città  Punteggio\n",
      "0      Sylvia   34  Verona         83\n",
      "1      Ettore   22  Verona         82\n",
      "2  Costantino   33  Milano         84\n"
     ]
    }
   ],
   "source": [
    "# Importazione della libreria pandas e assegnamento come nome pd\n",
    "import pandas as pd\n",
    "\n",
    "# Lettura del file csv e inserimento dentro al dataframe pandas\n",
    "df = pd.read_csv('data.csv')\n",
    "\n",
    "# Stampa delle prime 3 righe del dataframe\n",
    "print(df.head(3))"
   ]
  },
  {
   "cell_type": "markdown",
   "id": "39205055",
   "metadata": {
    "id": "39205055"
   },
   "source": [
    "## **2. Esplorazione dei dati**\n",
    "- Mostra informazioni generali sul `DataFrame`, come i tipi di dati, utilizzando `info()`.\n",
    "- Mostra le statistiche descrittive delle colonne numeriche utilizzando `describe()`."
   ]
  },
  {
   "cell_type": "code",
   "execution_count": 3,
   "id": "96958b0e-8c15-4801-aee0-917e871caf96",
   "metadata": {
    "id": "96958b0e-8c15-4801-aee0-917e871caf96"
   },
   "outputs": [
    {
     "name": "stdout",
     "output_type": "stream",
     "text": [
      "------------------------------------------------------------- STAMPA LE INFORMAZIONI SUL DATAFRAME\n",
      "<class 'pandas.core.frame.DataFrame'>\n",
      "RangeIndex: 500 entries, 0 to 499\n",
      "Data columns (total 4 columns):\n",
      " #   Column     Non-Null Count  Dtype \n",
      "---  ------     --------------  ----- \n",
      " 0   Nome       500 non-null    object\n",
      " 1   Età        500 non-null    int64 \n",
      " 2   Città      500 non-null    object\n",
      " 3   Punteggio  500 non-null    int64 \n",
      "dtypes: int64(2), object(2)\n",
      "memory usage: 15.8+ KB\n",
      "None\n",
      "------------------------------------------------------------- STAMPA LE STATISTICHE\n",
      "              Età  Punteggio\n",
      "count  500.000000  500.00000\n",
      "mean    42.736000   75.65800\n",
      "std     15.377361   14.78439\n",
      "min     18.000000   50.00000\n",
      "25%     29.000000   63.00000\n",
      "50%     42.000000   76.00000\n",
      "75%     57.000000   89.00000\n",
      "max     70.000000  100.00000\n"
     ]
    }
   ],
   "source": [
    "\n",
    "# Stampa delle diverse modalità per il DataFrame\n",
    "\n",
    "print('------------------------------------------------------------- STAMPA LE INFORMAZIONI SUL DATAFRAME')\n",
    "print(df.info())\n",
    "print('------------------------------------------------------------- STAMPA LE STATISTICHE')\n",
    "print(df.describe())"
   ]
  },
  {
   "cell_type": "markdown",
   "id": "41c861a2",
   "metadata": {
    "id": "41c861a2"
   },
   "source": [
    "## **3. Selezione di colonne specifiche**\n",
    "- Seleziona una o più colonne dal `DataFrame`.\n",
    "- Utilizza le parentesi quadre `[]` per selezionare una singola colonna o un elenco di colonne."
   ]
  },
  {
   "cell_type": "code",
   "execution_count": 12,
   "id": "f493cbb1-2bd4-4dbb-b62a-3c62bc650486",
   "metadata": {
    "id": "f493cbb1-2bd4-4dbb-b62a-3c62bc650486"
   },
   "outputs": [
    {
     "name": "stdout",
     "output_type": "stream",
     "text": [
      "           Nome    Città\n",
      "0        Sylvia   Verona\n",
      "1        Ettore   Verona\n",
      "2    Costantino   Milano\n",
      "3       Edoardo  Venezia\n",
      "4         Guido  Bologna\n",
      "..          ...      ...\n",
      "495        Milo  Palermo\n",
      "496    Maurizio   Milano\n",
      "497     Cecilia   Torino\n",
      "498    Leopoldo   Napoli\n",
      "499    Patrizio   Torino\n",
      "\n",
      "[500 rows x 2 columns]\n"
     ]
    }
   ],
   "source": [
    "\n",
    "# Bisogna mettere la doppia quadra perchè sennò Pandas lo legge come un nome unico e non due colonne diverse\n",
    "\n",
    "print(df[['Nome', 'Città']])"
   ]
  },
  {
   "cell_type": "markdown",
   "id": "bace7fab",
   "metadata": {
    "id": "bace7fab"
   },
   "source": [
    "## **4. Filtraggio dei dati**\n",
    "- Filtra le righe del `DataFrame` per visualizzare solo i record che soddisfano una condizione specifica (es: valori superiori a una certa soglia).\n",
    "- Suggerimento: utilizza l'operatore di confronto all'interno delle parentesi quadre `[]`."
   ]
  },
  {
   "cell_type": "code",
   "execution_count": 17,
   "id": "c3a1bbf1-6451-4fdd-ad8a-8e1cae8c2bc0",
   "metadata": {
    "id": "c3a1bbf1-6451-4fdd-ad8a-8e1cae8c2bc0"
   },
   "outputs": [
    {
     "name": "stdout",
     "output_type": "stream",
     "text": [
      "           Nome  Età    Città  Punteggio\n",
      "3       Edoardo   67  Venezia         53\n",
      "5       Jolanda   44   Napoli         97\n",
      "9       Gaetano   48  Catania         99\n",
      "11      Michele   51   Verona         50\n",
      "12      Gaetano   48   Milano         56\n",
      "..          ...  ...      ...        ...\n",
      "492  Alessandro   66   Napoli         63\n",
      "494      Emilio   46     Roma         95\n",
      "495        Milo   60  Palermo         79\n",
      "498    Leopoldo   45   Napoli         68\n",
      "499    Patrizio   44   Torino         91\n",
      "\n",
      "[270 rows x 4 columns]\n"
     ]
    }
   ],
   "source": [
    "\n",
    "# La quadra interna restituisce valori Boolean invece con quella esteriore estrapoliamo i dati dal DataFrame\n",
    "\n",
    "print(df[df['Età'] >= 40])"
   ]
  },
  {
   "cell_type": "markdown",
   "id": "ccb2291c",
   "metadata": {
    "id": "ccb2291c"
   },
   "source": [
    "## **5. Aggiunta di nuove colonne**\n",
    "- Aggiungi una nuova colonna al `DataFrame` calcolata a partire da altre colonne esistenti.\n",
    "- Utilizza l'operazione `DataFrame['nuova_colonna'] = ...` per creare una nuova colonna."
   ]
  },
  {
   "cell_type": "code",
   "execution_count": 20,
   "id": "3234a628-aae9-40e3-be0f-098786e77c9e",
   "metadata": {
    "id": "3234a628-aae9-40e3-be0f-098786e77c9e"
   },
   "outputs": [
    {
     "name": "stdout",
     "output_type": "stream",
     "text": [
      "           Nome  Età    Città  Punteggio  Somma\n",
      "0        Sylvia   34   Verona         83    117\n",
      "1        Ettore   22   Verona         82    104\n",
      "2    Costantino   33   Milano         84    117\n",
      "3       Edoardo   67  Venezia         53    120\n",
      "4         Guido   26  Bologna         60     86\n",
      "..          ...  ...      ...        ...    ...\n",
      "495        Milo   60  Palermo         79    139\n",
      "496    Maurizio   39   Milano         95    134\n",
      "497     Cecilia   39   Torino         80    119\n",
      "498    Leopoldo   45   Napoli         68    113\n",
      "499    Patrizio   44   Torino         91    135\n",
      "\n",
      "[500 rows x 5 columns]\n"
     ]
    }
   ],
   "source": [
    "\n",
    "# Eseguo l'addizione tra i due numeri interi Età e Punteggio\n",
    "somma_punt_eta = df['Età'] + df['Punteggio']\n",
    "\n",
    "# Aggiungo la variabile a una nuova colonna del DataFrame\n",
    "df['Somma'] = somma_punt_eta\n",
    "\n",
    "# Visualizzo tutto il DataFrame per vedere se l'aggiunta della colonna è andata a buon fine\n",
    "print(df)"
   ]
  },
  {
   "cell_type": "markdown",
   "id": "dbb7dec1",
   "metadata": {
    "id": "dbb7dec1"
   },
   "source": [
    "## **6. Ordinamento dei dati**\n",
    "- Ordina i dati in base a una o più colonne.\n",
    "- Utilizza `sort_values()` per ordinare il `DataFrame` specificando la colonna e l'ordine."
   ]
  },
  {
   "cell_type": "code",
   "execution_count": 24,
   "id": "d2252edd-df87-4685-9a28-5958e1d9dbef",
   "metadata": {
    "id": "d2252edd-df87-4685-9a28-5958e1d9dbef"
   },
   "outputs": [
    {
     "name": "stdout",
     "output_type": "stream",
     "text": [
      "           Nome  Età    Città  Punteggio  Somma\n",
      "434    Giovanni   18  Venezia         71     89\n",
      "444    Telemaco   18   Torino         70     88\n",
      "327     Claudio   18  Venezia         94    112\n",
      "91       Simone   18  Palermo         87    105\n",
      "223       Livio   18     Roma         64     82\n",
      "..          ...  ...      ...        ...    ...\n",
      "182    Torquato   69  Venezia         93    162\n",
      "427     Claudia   70   Verona         81    151\n",
      "341       Luisa   70     Roma         95    165\n",
      "238  Giuseppina   70   Milano         82    152\n",
      "188      Baccio   70  Palermo         94    164\n",
      "\n",
      "[500 rows x 5 columns]\n"
     ]
    }
   ],
   "source": [
    "# Riordino il DataFrame in ordine crescente sulla base della colonna Età\n",
    "df = df.sort_values(by = 'Età', ascending = True)\n",
    "\n",
    "# Stampo il dataframe\n",
    "print(df)"
   ]
  },
  {
   "cell_type": "markdown",
   "id": "ddeed65a",
   "metadata": {
    "id": "ddeed65a"
   },
   "source": [
    "## **7. Raggruppamento e aggregazione**\n",
    "- Raggruppa i dati in base ai valori di una colonna e calcola operazioni di aggregazione (es: somma, media).\n",
    "- Utilizza `groupby()` seguito da metodi di aggregazione come `sum()`, `mean()`."
   ]
  },
  {
   "cell_type": "code",
   "execution_count": 29,
   "id": "9e0d2aeb-7b66-42e7-8236-ed6305b84c49",
   "metadata": {
    "id": "9e0d2aeb-7b66-42e7-8236-ed6305b84c49"
   },
   "outputs": [
    {
     "name": "stdout",
     "output_type": "stream",
     "text": [
      "Città\n",
      "Bologna    4122\n",
      "Catania    3449\n",
      "Firenze    3162\n",
      "Milano     4467\n",
      "Napoli     3188\n",
      "Palermo    3895\n",
      "Roma       3808\n",
      "Torino     3846\n",
      "Venezia    3656\n",
      "Verona     4236\n",
      "Name: Punteggio, dtype: int64\n"
     ]
    }
   ],
   "source": [
    "\n",
    "# Salvo dentro a una variabile \"Città\" il groupby e faccio la somma dei punteggi per ogni città\n",
    "città = df.groupby('Città')['Punteggio'].sum()\n",
    "\n",
    "# Stampo la variabile con all'interno i valori per ogni città\n",
    "print(città)"
   ]
  },
  {
   "cell_type": "markdown",
   "id": "dadc226f",
   "metadata": {
    "id": "dadc226f"
   },
   "source": [
    "## **8. Gestione dei valori mancanti**\n",
    "- Identifica i valori mancanti e sostituiscili con un valore appropriato.\n",
    "- Utilizza `isna()` o `isnull()` per identificare i valori mancanti e `fillna()` o `dropna()` per gestirli."
   ]
  },
  {
   "cell_type": "code",
   "execution_count": 33,
   "id": "347835e4-13a7-469d-a9d0-e4983320dd03",
   "metadata": {
    "id": "347835e4-13a7-469d-a9d0-e4983320dd03"
   },
   "outputs": [
    {
     "name": "stdout",
     "output_type": "stream",
     "text": [
      "-------------------------------------------------- STAMPA BOOLEAN --------------------------------------------\n",
      "      Nome    Età  Città  Punteggio  Somma\n",
      "434  False  False  False      False  False\n",
      "444  False  False  False      False  False\n",
      "327  False  False  False      False  False\n",
      "91   False  False  False      False  False\n",
      "223  False  False  False      False  False\n",
      "..     ...    ...    ...        ...    ...\n",
      "182  False  False  False      False  False\n",
      "427  False  False  False      False  False\n",
      "341  False  False  False      False  False\n",
      "238  False  False  False      False  False\n",
      "188  False  False  False      False  False\n",
      "\n",
      "[500 rows x 5 columns]\n",
      "-------------------------------------------------- SOSTITUZIONE VALORI CON ALTRI -------------------------------------------\n",
      "           Nome  Età    Città  Punteggio  Somma\n",
      "434    Giovanni   18  Venezia         71     89\n",
      "444    Telemaco   18   Torino         70     88\n",
      "327     Claudio   18  Venezia         94    112\n",
      "91       Simone   18  Palermo         87    105\n",
      "223       Livio   18     Roma         64     82\n",
      "..          ...  ...      ...        ...    ...\n",
      "182    Torquato   69  Venezia         93    162\n",
      "427     Claudia   70   Verona         81    151\n",
      "341       Luisa   70     Roma         95    165\n",
      "238  Giuseppina   70   Milano         82    152\n",
      "188      Baccio   70  Palermo         94    164\n",
      "\n",
      "[500 rows x 5 columns]\n"
     ]
    }
   ],
   "source": [
    "\n",
    "# Stampo la linea di introduzione al primo output\n",
    "print('-------------------------------------------------- STAMPA BOOLEAN --------------------------------------------')\n",
    "\n",
    "# Ricevere una restituzione dei valori mancanti con valori boolean\n",
    "print(df.isnull())\n",
    "\n",
    "# Stampo la linea di separazione dei due prompt\n",
    "print('-------------------------------------------------- SOSTITUZIONE VALORI CON ALTRI -------------------------------------------')\n",
    "\n",
    "# Sostituire i valori nulli con valori predefinati che do io per ogni colonna\n",
    "print(df.fillna(value={'Nome': 'Sconosciuto', 'Età': 0, 'Città': 'Sconosciuta', 'Punteggio': 0, 'Somma': 0}))"
   ]
  },
  {
   "cell_type": "markdown",
   "id": "a65d7bfb",
   "metadata": {
    "id": "a65d7bfb"
   },
   "source": [
    "## **9. Salvataggio del `DataFrame` aggiornato**\n",
    "- Dopo aver effettuato modifiche, salva il `DataFrame` aggiornato in un nuovo file CSV.\n",
    "- Utilizza `to_csv()` per salvare il file aggiornato con un nome diverso (es: `data_updated.csv`)."
   ]
  },
  {
   "cell_type": "code",
   "execution_count": 34,
   "id": "621db887-36ae-49c0-a280-aef2553377bd",
   "metadata": {
    "id": "621db887-36ae-49c0-a280-aef2553377bd"
   },
   "outputs": [],
   "source": [
    "\n",
    "# Salvataggio del file csv aggiornato nella cartella con nome diverso per non creare errori\n",
    "df.to_csv('data_updated.csv')"
   ]
  }
 ],
 "metadata": {
  "colab": {
   "provenance": []
  },
  "kernelspec": {
   "display_name": "Python 3",
   "language": "python",
   "name": "python3"
  },
  "language_info": {
   "codemirror_mode": {
    "name": "ipython",
    "version": 3
   },
   "file_extension": ".py",
   "mimetype": "text/x-python",
   "name": "python",
   "nbconvert_exporter": "python",
   "pygments_lexer": "ipython3",
   "version": "3.12.7"
  }
 },
 "nbformat": 4,
 "nbformat_minor": 5
}
