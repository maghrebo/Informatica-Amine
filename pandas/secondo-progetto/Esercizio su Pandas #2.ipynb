{
 "cells": [
  {
   "cell_type": "markdown",
   "id": "76c2071c-3045-4c37-b234-cae27d6e53b4",
   "metadata": {},
   "source": [
    "# **Esercizio su Pandas #2**\n",
    "In questo esercizio ti verrà fornita una query SQL e dovrai convertirla in istruzioni di Pandas.\n",
    "\n",
    "**NB:** Il file `products.csv` ha la seguente struttura tabellare:\n",
    "\n",
    "|   **name**   | **qnt** | **origin** | **purchasePrice** | **salePrice** |\n",
    "|--------------|--------:|------------|-----------------:|--------------:|\n",
    "| Noci         |     227 | Giappone   |             3.09 |          3.46 |\n",
    "| Sale         |     134 | Giappone   |             4.39 |          6.48 |\n",
    "| Cipolle      |     231 | Cina       |             9.35 |         10.37 |\n",
    "| Tortellini   |     426 | Brasile    |             4.89 |          6.85 |\n",
    "| Gnocchi      |     215 | Brasile    |             3.56 |          4.15 |\n",
    "\n",
    "\n",
    "**Punto 1.** Crea un `DataFrame` a partire dal file `products.csv` <!--  -->"
   ]
  },
  {
   "cell_type": "code",
   "execution_count": 11,
   "id": "b0eb6ee9-7e9a-4f2d-a2d5-aee2bdc728a3",
   "metadata": {},
   "outputs": [
    {
     "name": "stdout",
     "output_type": "stream",
     "text": [
      "                name  qnt    origin  purchasePrice  salePrice\n",
      "0               Noci  227  Giappone           3.09       3.46\n",
      "1               Sale  134  Giappone           4.39       6.48\n",
      "2            Cipolle  231      Cina           9.35      10.37\n",
      "3         Tortellini  426   Brasile           4.89       6.85\n",
      "4            Gnocchi  215   Brasile           3.56       4.15\n",
      "..               ...  ...       ...            ...        ...\n",
      "95  Prosciutto crudo  299      Cina           5.28       6.72\n",
      "96         Salsiccia  135    Grecia           9.47      11.53\n",
      "97  Prosciutto crudo   38    Olanda           2.27       2.66\n",
      "98            Gelato  356  Giappone           3.16       4.05\n",
      "99        Crocchette  103    Olanda           8.12      11.74\n",
      "\n",
      "[100 rows x 5 columns]\n"
     ]
    }
   ],
   "source": [
    "# Importazione della libreria pandas e assegnamento come nome pd\n",
    "import pandas as pd\n",
    "\n",
    "# Lettura del file csv e inserimento dentro al dataframe pandas\n",
    "df = pd.read_csv('products.csv')\n",
    "\n",
    "df = pd.DataFrame(df)\n",
    "\n",
    "# Stampa e visualizzazione del dataframe pandas\n",
    "print(df)"
   ]
  },
  {
   "attachments": {},
   "cell_type": "markdown",
   "id": "90e513bd-a4f1-41b4-8e1a-f9b5462e82b0",
   "metadata": {},
   "source": [
    "**Punto 2.** `SELECT * FROM products WHERE origin=\"Giappone\";`"
   ]
  },
  {
   "cell_type": "code",
   "execution_count": 2,
   "id": "8053ae8f-796d-4321-8881-3585fe734758",
   "metadata": {},
   "outputs": [
    {
     "name": "stdout",
     "output_type": "stream",
     "text": [
      "                name  qnt    origin  purchasePrice  salePrice\n",
      "0               Noci  227  Giappone           3.09       3.46\n",
      "1               Sale  134  Giappone           4.39       6.48\n",
      "6   Fette biscottate  393  Giappone           3.14       4.48\n",
      "51        Marmellata  200  Giappone           5.41       6.41\n",
      "53           Anguria  386  Giappone           1.20       1.64\n",
      "73              Vino  207  Giappone           6.23       8.93\n",
      "93            Salame  122  Giappone           7.49       8.81\n",
      "98            Gelato  356  Giappone           3.16       4.05\n"
     ]
    }
   ],
   "source": [
    "\n",
    "# Salvataggio dei prodotti provenienti dal Giappone nella variabile\n",
    "prodotti = df[df['origin'] == 'Giappone']\n",
    "\n",
    "# Stampo della variabile a schermo\n",
    "print(prodotti)"
   ]
  },
  {
   "cell_type": "markdown",
   "id": "b8a99d25-eb92-434f-9d44-764fa44b7696",
   "metadata": {},
   "source": [
    "**Punto 3.** `SELECT SUM(qnt) FROM products WHERE origin=\"Brasile\";`"
   ]
  },
  {
   "cell_type": "code",
   "execution_count": 3,
   "id": "1eddff6d-f267-4d3c-890c-4897717bc419",
   "metadata": {},
   "outputs": [
    {
     "name": "stdout",
     "output_type": "stream",
     "text": [
      "1572\n"
     ]
    }
   ],
   "source": [
    "\n",
    "# Estrapolo nella variabile prodotti tutti i prodotti con provenienza dal Brasile\n",
    "prodotti = df[df['origin'] == 'Brasile']\n",
    "\n",
    "# Stampo la somma delle quantità\n",
    "print(prodotti['qnt'].sum())\n",
    "\n"
   ]
  },
  {
   "cell_type": "markdown",
   "id": "d3c8d8da-8b76-41ba-ad90-a19f1bde12b9",
   "metadata": {},
   "source": [
    "**Punto 4.** `SELECT * FROM products WHERE salePrice=(SELECT MAX(salePrice) FROM products);`"
   ]
  },
  {
   "cell_type": "code",
   "execution_count": 4,
   "id": "1a72f030-3a5f-4236-bddb-d58f1a46d3d6",
   "metadata": {},
   "outputs": [
    {
     "name": "stdout",
     "output_type": "stream",
     "text": [
      "              name  qnt  origin  purchasePrice  salePrice\n",
      "65  Pane al sesamo  179  Grecia           9.63      13.46\n"
     ]
    }
   ],
   "source": [
    "# Identifico il prezzo di vendita maggiore dalla lista\n",
    "massimo_prezzo = df['salePrice'].max()\n",
    "\n",
    "# Trovo il prodotto corrispondente al prezzo massimo salvato nella variabile\n",
    "prodotto = df[df['salePrice'] == massimo_prezzo]\n",
    "\n",
    "# Mostro e stampo il prodotto\n",
    "print(prodotto)"
   ]
  },
  {
   "cell_type": "markdown",
   "id": "2430146b-7050-4054-8d9a-52b39026a310",
   "metadata": {},
   "source": [
    "**Punto 5.** `SELECT origin, COUNT(*) FROM products GROUP BY origin ORDER BY COUNT(*) DESC;`"
   ]
  },
  {
   "cell_type": "code",
   "execution_count": 5,
   "id": "c3b8f030-89a3-48ee-bed3-306b8b37e2a9",
   "metadata": {},
   "outputs": [
    {
     "name": "stdout",
     "output_type": "stream",
     "text": [
      "     origin  count\n",
      "5    Grecia     16\n",
      "7    Olanda     13\n",
      "9       USA     11\n",
      "1      Cina     10\n",
      "6    Italia     10\n",
      "3  Germania     10\n",
      "0   Brasile      8\n",
      "4  Giappone      8\n",
      "2   Francia      7\n",
      "8    Spagna      7\n"
     ]
    }
   ],
   "source": [
    "\n",
    "# Salvo dentro alla variabile gruppi, il raggruppamento di tutti i dati che hanno in comune il paese di origine e gli aggiugo di fianco una colonna \"count\"\n",
    "gruppi = df.groupby(by = 'origin').size().reset_index(name='count')\n",
    "\n",
    "# Prendo la variabile e la analizzo ordinando i prodotti in ordine decrescente\n",
    "prodotti = gruppi.sort_values(by = 'count', ascending = False)\n",
    "\n",
    "# Stampo a schermo i prodotti modificati nella nuova variabile di risultato\n",
    "print(prodotti)"
   ]
  },
  {
   "cell_type": "markdown",
   "id": "e3ad60d9-b898-4682-849e-bc5f18430fff",
   "metadata": {},
   "source": [
    "**Punto 6.** `SELECT * FROM products WHERE origin=\"Giappone\";`"
   ]
  },
  {
   "cell_type": "code",
   "execution_count": 6,
   "id": "09fd2cbc-0084-4b01-94f3-e4125abcae5b",
   "metadata": {},
   "outputs": [
    {
     "name": "stdout",
     "output_type": "stream",
     "text": [
      "                name  qnt    origin  purchasePrice  salePrice\n",
      "0               Noci  227  Giappone           3.09       3.46\n",
      "1               Sale  134  Giappone           4.39       6.48\n",
      "6   Fette biscottate  393  Giappone           3.14       4.48\n",
      "51        Marmellata  200  Giappone           5.41       6.41\n",
      "53           Anguria  386  Giappone           1.20       1.64\n",
      "73              Vino  207  Giappone           6.23       8.93\n",
      "93            Salame  122  Giappone           7.49       8.81\n",
      "98            Gelato  356  Giappone           3.16       4.05\n"
     ]
    }
   ],
   "source": [
    "\n",
    "# Salvataggio dei prodotti provenienti dal Giappone nella variabile\n",
    "prodotti = df[df['origin'] == 'Giappone']\n",
    "\n",
    "# Stampo della variabile a schermo\n",
    "print(prodotti)"
   ]
  },
  {
   "cell_type": "markdown",
   "id": "694b4e2c-538e-4205-b3f8-811ab9d76b43",
   "metadata": {},
   "source": [
    "**Punto 7.** `SELECT origin, AVG(salePrice) FROM products GROUP BY origin ORDER BY salePrice DESC LIMIT 3`"
   ]
  },
  {
   "cell_type": "code",
   "execution_count": 17,
   "id": "c32c3cb7-c0ba-4653-8522-34e0b8938ded",
   "metadata": {},
   "outputs": [
    {
     "name": "stdout",
     "output_type": "stream",
     "text": [
      "                                                     nome   qnt  \\\n",
      "origin                                                            \n",
      "Grecia  UovaZuccheroAcquaZuccheroTonnoMortadellaPenneV...  2829   \n",
      "USA     PastaUovaBibiteCaffèBriocheVinoLatte di soiaCe...  2663   \n",
      "Olanda  GnocchiZuccheroTacchinoBananePolpetteRisoLatte...  2765   \n",
      "\n",
      "        purchasePrice  avgSalePrice  \n",
      "origin                               \n",
      "Grecia         106.05        138.28  \n",
      "USA             80.69        106.39  \n",
      "Olanda          69.50         88.30  \n"
     ]
    }
   ],
   "source": [
    "\n",
    "gruppo = df.groupby(by = 'origin').agg({'salePrice': 'mean'})\n",
    "\n",
    "prodotti.columns = [ 'nome', 'qnt', 'purchasePrice', 'avgSalePrice']\n",
    "\n",
    "prodotti = prodotti.sort_values(by='avgSalePrice', ascending=False).head(3)\n",
    "\n",
    "print(prodotti)"
   ]
  },
  {
   "cell_type": "markdown",
   "id": "25889663-d203-4d58-b008-ad26d4e05cda",
   "metadata": {},
   "source": [
    "**Punto 8.** `SELECT origin, COUNT(*) FROM products GROUP BY origin HAVING COUNT(*) > 1;`"
   ]
  },
  {
   "cell_type": "code",
   "execution_count": null,
   "id": "d7b0a0ca-e4e6-41d3-a689-37948cd2eaff",
   "metadata": {},
   "outputs": [],
   "source": []
  },
  {
   "cell_type": "markdown",
   "id": "6e77752b-877d-45b6-814c-bf7aad044d09",
   "metadata": {},
   "source": [
    "**Punto 9.** `SELECT name, salePrice FROM products WHERE salePrice > (SELECT AVG(salePrice) FROM products);`"
   ]
  },
  {
   "cell_type": "code",
   "execution_count": null,
   "id": "7ac66b44-82e2-4fa1-b0e1-1eb66085699b",
   "metadata": {},
   "outputs": [],
   "source": []
  }
 ],
 "metadata": {
  "kernelspec": {
   "display_name": "Python 3",
   "language": "python",
   "name": "python3"
  },
  "language_info": {
   "codemirror_mode": {
    "name": "ipython",
    "version": 3
   },
   "file_extension": ".py",
   "mimetype": "text/x-python",
   "name": "python",
   "nbconvert_exporter": "python",
   "pygments_lexer": "ipython3",
   "version": "3.12.7"
  }
 },
 "nbformat": 4,
 "nbformat_minor": 5
}
